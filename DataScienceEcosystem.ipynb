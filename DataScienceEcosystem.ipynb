{
 "cells": [
  {
   "cell_type": "markdown",
   "id": "aa9d8e11-3610-4add-844e-01dd428411c5",
   "metadata": {},
   "source": [
    "# Data Science Tools and Ecosystem"
   ]
  },
  {
   "cell_type": "markdown",
   "id": "de7068ad-5380-429d-b48e-916338673730",
   "metadata": {},
   "source": [
    "### In this notebook, Data Science Tools and Ecosystem are summarized."
   ]
  },
  {
   "cell_type": "markdown",
   "id": "2d6d4e4b-dba0-45b0-b529-2ee92a4a64fc",
   "metadata": {},
   "source": [
    "**Objectives:**\n",
    "* List popular languages for Data Science.\n",
    "* List commonly used Libraries for Data Science.\n",
    "* List 3 Data Science Tools.\n",
    "* Evaluate arithmetic expressions in Python."
   ]
  },
  {
   "cell_type": "markdown",
   "id": "e7481bf9-f036-4b86-b77a-ae967a38ce64",
   "metadata": {},
   "source": [
    "Some of the popular languages that Data Scientists use are:\n",
    "1. Python\n",
    "2. R\n",
    "3. SQL\n",
    "4. Scala\n",
    "5. Julia\n",
    "6. Java"
   ]
  },
  {
   "cell_type": "markdown",
   "id": "eaf5a574-671b-420c-9688-388b8b52133d",
   "metadata": {},
   "source": [
    "Some of the commonly used libraries used by Data Scientists include\n",
    "\n",
    "1. Matplotlib\n",
    "2. Apache Spark\n",
    "3. SciPy\n",
    "4. Scikit-learn\n",
    "5. Seaborn\n",
    "6. Numpy\n",
    "7. TensorFlow\n",
    "8. Plotly\n",
    "9. Keras\n",
    "10. Beautiful Soup"
   ]
  },
  {
   "cell_type": "markdown",
   "id": "c95c5b00-88ef-475d-9e29-c6472256fdd5",
   "metadata": {},
   "source": [
    "| Data Science Tools |\n",
    "|----|\n",
    "|Python|\n",
    "|Jupyter Notebook|\n",
    "|RStudio|"
   ]
  },
  {
   "cell_type": "markdown",
   "id": "e71233ff-261b-4705-b296-4e627f8273b7",
   "metadata": {},
   "source": [
    "### Below are a few examples of evaluating arithmetic expressions in Python. "
   ]
  },
  {
   "cell_type": "code",
   "execution_count": 5,
   "id": "2ad94d70-5e13-482f-a5b8-213fb9615933",
   "metadata": {},
   "outputs": [
    {
     "data": {
      "text/plain": [
       "17"
      ]
     },
     "execution_count": 5,
     "metadata": {},
     "output_type": "execute_result"
    }
   ],
   "source": [
    "#This is a simple arithmetic expression to multiply then add integers.\n",
    "(3*4)+5"
   ]
  },
  {
   "cell_type": "code",
   "execution_count": 6,
   "id": "f6eb7978-cb59-4768-b917-143d682121ef",
   "metadata": {},
   "outputs": [
    {
     "data": {
      "text/plain": [
       "3.3333333333333335"
      ]
     },
     "execution_count": 6,
     "metadata": {},
     "output_type": "execute_result"
    }
   ],
   "source": [
    "#This will convert 200 minutes to hours by dividing it by 60.\n",
    "200/60"
   ]
  },
  {
   "cell_type": "markdown",
   "id": "d3acf0e7-f57d-4035-85a8-1ad41829e034",
   "metadata": {},
   "source": [
    "## Author\n",
    "Maria Carolina Mertens"
   ]
  },
  {
   "cell_type": "code",
   "execution_count": null,
   "id": "2e8d11e6-6ef1-4227-82ad-17c2ce9e89cf",
   "metadata": {},
   "outputs": [],
   "source": []
  }
 ],
 "metadata": {
  "kernelspec": {
   "display_name": "Python [conda env:RP-Env]",
   "language": "python",
   "name": "conda-env-RP-Env-py"
  },
  "language_info": {
   "codemirror_mode": {
    "name": "ipython",
    "version": 3
   },
   "file_extension": ".py",
   "mimetype": "text/x-python",
   "name": "python",
   "nbconvert_exporter": "python",
   "pygments_lexer": "ipython3",
   "version": "3.12.9"
  }
 },
 "nbformat": 4,
 "nbformat_minor": 5
}
