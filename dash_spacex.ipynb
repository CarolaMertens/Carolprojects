{
 "cells": [
  {
   "cell_type": "code",
   "execution_count": 26,
   "id": "f3830d2f",
   "metadata": {},
   "outputs": [
    {
     "name": "stdout",
     "output_type": "stream",
     "text": [
      "Requirement already satisfied: pandas in c:\\users\\caraq\\anaconda3\\envs\\rp-env\\lib\\site-packages (2.3.3)\n",
      "Requirement already satisfied: dash in c:\\users\\caraq\\anaconda3\\envs\\rp-env\\lib\\site-packages (3.2.0)\n",
      "Requirement already satisfied: numpy>=1.26.0 in c:\\users\\caraq\\anaconda3\\envs\\rp-env\\lib\\site-packages (from pandas) (2.3.3)\n",
      "Requirement already satisfied: python-dateutil>=2.8.2 in c:\\users\\caraq\\anaconda3\\envs\\rp-env\\lib\\site-packages (from pandas) (2.9.0.post0)\n",
      "Requirement already satisfied: pytz>=2020.1 in c:\\users\\caraq\\anaconda3\\envs\\rp-env\\lib\\site-packages (from pandas) (2025.2)\n",
      "Requirement already satisfied: tzdata>=2022.7 in c:\\users\\caraq\\anaconda3\\envs\\rp-env\\lib\\site-packages (from pandas) (2025.2)\n",
      "Requirement already satisfied: Flask<3.2,>=1.0.4 in c:\\users\\caraq\\anaconda3\\envs\\rp-env\\lib\\site-packages (from dash) (3.1.2)\n",
      "Requirement already satisfied: Werkzeug<3.2 in c:\\users\\caraq\\anaconda3\\envs\\rp-env\\lib\\site-packages (from dash) (3.1.3)\n",
      "Requirement already satisfied: plotly>=5.0.0 in c:\\users\\caraq\\anaconda3\\envs\\rp-env\\lib\\site-packages (from dash) (6.3.0)\n",
      "Requirement already satisfied: importlib-metadata in c:\\users\\caraq\\anaconda3\\envs\\rp-env\\lib\\site-packages (from dash) (8.7.0)\n",
      "Requirement already satisfied: typing-extensions>=4.1.1 in c:\\users\\caraq\\anaconda3\\envs\\rp-env\\lib\\site-packages (from dash) (4.12.2)\n",
      "Requirement already satisfied: requests in c:\\users\\caraq\\anaconda3\\envs\\rp-env\\lib\\site-packages (from dash) (2.32.3)\n",
      "Requirement already satisfied: retrying in c:\\users\\caraq\\anaconda3\\envs\\rp-env\\lib\\site-packages (from dash) (1.4.2)\n",
      "Requirement already satisfied: nest-asyncio in c:\\users\\caraq\\appdata\\roaming\\python\\python312\\site-packages (from dash) (1.6.0)\n",
      "Requirement already satisfied: setuptools in c:\\users\\caraq\\anaconda3\\envs\\rp-env\\lib\\site-packages (from dash) (78.1.1)\n",
      "Requirement already satisfied: blinker>=1.9.0 in c:\\users\\caraq\\anaconda3\\envs\\rp-env\\lib\\site-packages (from Flask<3.2,>=1.0.4->dash) (1.9.0)\n",
      "Requirement already satisfied: click>=8.1.3 in c:\\users\\caraq\\anaconda3\\envs\\rp-env\\lib\\site-packages (from Flask<3.2,>=1.0.4->dash) (8.3.0)\n",
      "Requirement already satisfied: itsdangerous>=2.2.0 in c:\\users\\caraq\\anaconda3\\envs\\rp-env\\lib\\site-packages (from Flask<3.2,>=1.0.4->dash) (2.2.0)\n",
      "Requirement already satisfied: jinja2>=3.1.2 in c:\\users\\caraq\\anaconda3\\envs\\rp-env\\lib\\site-packages (from Flask<3.2,>=1.0.4->dash) (3.1.6)\n",
      "Requirement already satisfied: markupsafe>=2.1.1 in c:\\users\\caraq\\anaconda3\\envs\\rp-env\\lib\\site-packages (from Flask<3.2,>=1.0.4->dash) (3.0.2)\n",
      "Requirement already satisfied: colorama in c:\\users\\caraq\\appdata\\roaming\\python\\python312\\site-packages (from click>=8.1.3->Flask<3.2,>=1.0.4->dash) (0.4.6)\n",
      "Requirement already satisfied: narwhals>=1.15.1 in c:\\users\\caraq\\anaconda3\\envs\\rp-env\\lib\\site-packages (from plotly>=5.0.0->dash) (2.6.0)\n",
      "Requirement already satisfied: packaging in c:\\users\\caraq\\anaconda3\\envs\\rp-env\\lib\\site-packages (from plotly>=5.0.0->dash) (24.2)\n",
      "Requirement already satisfied: six>=1.5 in c:\\users\\caraq\\anaconda3\\envs\\rp-env\\lib\\site-packages (from python-dateutil>=2.8.2->pandas) (1.17.0)\n",
      "Requirement already satisfied: zipp>=3.20 in c:\\users\\caraq\\anaconda3\\envs\\rp-env\\lib\\site-packages (from importlib-metadata->dash) (3.23.0)\n",
      "Requirement already satisfied: charset-normalizer<4,>=2 in c:\\users\\caraq\\anaconda3\\envs\\rp-env\\lib\\site-packages (from requests->dash) (3.3.2)\n",
      "Requirement already satisfied: idna<4,>=2.5 in c:\\users\\caraq\\anaconda3\\envs\\rp-env\\lib\\site-packages (from requests->dash) (3.7)\n",
      "Requirement already satisfied: urllib3<3,>=1.21.1 in c:\\users\\caraq\\anaconda3\\envs\\rp-env\\lib\\site-packages (from requests->dash) (2.3.0)\n",
      "Requirement already satisfied: certifi>=2017.4.17 in c:\\users\\caraq\\anaconda3\\envs\\rp-env\\lib\\site-packages (from requests->dash) (2025.4.26)\n",
      "Note: you may need to restart the kernel to use updated packages.\n"
     ]
    }
   ],
   "source": [
    "%pip install pandas dash"
   ]
  },
  {
   "cell_type": "code",
   "execution_count": 22,
   "id": "1f6c2409",
   "metadata": {},
   "outputs": [
    {
     "name": "stderr",
     "output_type": "stream",
     "text": [
      "'wget' is not recognized as an internal or external command,\n",
      "operable program or batch file.\n"
     ]
    }
   ],
   "source": [
    "!wget \"https://cf-courses-data.s3.us.cloud-object-storage.appdomain.cloud/IBM-DS0321EN-SkillsNetwork/datasets/spacex_launch_dash.csv\""
   ]
  },
  {
   "cell_type": "code",
   "execution_count": 27,
   "id": "38101449",
   "metadata": {},
   "outputs": [],
   "source": [
    "from dash import Dash, dcc\n",
    "#Create app\n",
    "app = Dash(__name__)\n",
    "#Clear the layout and do not display exception till callback gets executed\n",
    "app.config.suppress_callback_exceptions = True"
   ]
  },
  {
   "cell_type": "code",
   "execution_count": 28,
   "id": "0c5f0ef8",
   "metadata": {},
   "outputs": [
    {
     "data": {
      "text/html": [
       "\n",
       "        <iframe\n",
       "            width=\"100%\"\n",
       "            height=\"650\"\n",
       "            src=\"http://127.0.0.1:8051/\"\n",
       "            frameborder=\"0\"\n",
       "            allowfullscreen\n",
       "            \n",
       "        ></iframe>\n",
       "        "
      ],
      "text/plain": [
       "<IPython.lib.display.IFrame at 0x2b7fedeaf00>"
      ]
     },
     "metadata": {},
     "output_type": "display_data"
    }
   ],
   "source": [
    "\n",
    "  \n",
    "import pandas as pd\n",
    "\n",
    "spacex_df = pd.read_csv(\"spacex_launch_dash.csv\")\n",
    "\n",
    "from dash import html, dcc\n",
    "from dash.dependencies import Input, Output\n",
    "import plotly.express as px\n",
    "\n",
    "# Use existing spacex_df, min_value, max_value, and app\n",
    "\n",
    "min_value = spacex_df['Payload Mass (kg)'].min()\n",
    "max_value = spacex_df['Payload Mass (kg)'].max()\n",
    "\n",
    "app.layout = html.Div(children=[\n",
    "    html.H1(\"SpaceX Launch Records Dashboard\",\n",
    "        style={'textAlign': 'center','color': '#503D36', 'font-size': 24}),\n",
    "    html.Div([\n",
    "        dcc.Dropdown(\n",
    "            id='site-dropdown',\n",
    "            options=[\n",
    "                {'label': 'All Sites', 'value': 'ALL'},\n",
    "                {'label': 'CCAFS LC-40', 'value': 'CCAFS LC-40'},\n",
    "                {'label': 'VAFB SLC-4E', 'value': 'VAFB SLC-4E'},\n",
    "                {'label': 'KSC LC-39A', 'value': 'KSC LC-39A'},\n",
    "                {'label': 'CCAFS SLC-40', 'value': 'CCAFS SLC-40'},\n",
    "            ],\n",
    "            value='ALL',\n",
    "            placeholder=\"Select a Launch Site here\",\n",
    "            searchable=True\n",
    "        ),\n",
    "    html.Div([\n",
    "            dcc.Graph(id='success-pie-chart')\n",
    "            ]),\n",
    "    html.Div([\n",
    "        html.Label(\"Payload range (Kg):\"),\n",
    "        dcc.RangeSlider(\n",
    "            id='payload-slider',\n",
    "            min=0, max=10000, step=1000,\n",
    "            marks={0: '0',\n",
    "                   2500: '2500',\n",
    "                   5000: '5000',\n",
    "                   7500: '7500',\n",
    "                   10000: '10000'},\n",
    "            value=[min_value, max_value]\n",
    "        )\n",
    "    ], style={'padding': '20px 0px', 'color': '#503D36'}),\n",
    "        \n",
    "    html.Div([\n",
    "            dcc.Graph(id='success-payload-scatter-chart')\n",
    "            ]),\n",
    "    ])\n",
    "])\n",
    "\n",
    "@app.callback(\n",
    "    Output(component_id='success-pie-chart', component_property='figure'),\n",
    "    Input(component_id='site-dropdown', component_property='value')\n",
    ")\n",
    "def get_pie_chart(entered_site):\n",
    "    filtered_df = spacex_df\n",
    "    if entered_site == 'ALL':\n",
    "        fig = px.pie(filtered_df, values='class', \n",
    "        names='Launch Site', \n",
    "        title='Total Success Launches by Site')\n",
    "    else:\n",
    "        # Filter for the selected site\n",
    "        site_df = filtered_df[filtered_df['Launch Site'] == entered_site]\n",
    "        # Count success (1) and failure (0)\n",
    "        site_counts = site_df['class'].value_counts().reset_index()\n",
    "        site_counts.columns = ['Outcome', 'Count']\n",
    "        site_counts['Outcome'] = site_counts['Outcome'].map({1: 'Success', 0: 'Failure'})\n",
    "        \n",
    "        fig = px.pie(site_counts, \n",
    "                     values='Count', \n",
    "                     names='Outcome', \n",
    "                     title=f'Total Success Launches for Site {entered_site}')\n",
    "    return fig\n",
    "@app.callback(\n",
    "    Output(component_id='success-payload-scatter-chart', component_property='figure'),\n",
    "    [Input(component_id='site-dropdown', component_property='value'),\n",
    "     Input(component_id='payload-slider', component_property='value')]\n",
    ")\n",
    "def get_scatter_chart(entered_site, payload_range):\n",
    "    low, high = payload_range\n",
    "    mask = (spacex_df['Payload Mass (kg)'] >= low) & (spacex_df['Payload Mass (kg)'] <= high)\n",
    "    filtered_df = spacex_df[mask]\n",
    "    \n",
    "    if entered_site == 'ALL':\n",
    "        fig = px.scatter(filtered_df, \n",
    "                         x='Payload Mass (kg)', \n",
    "                         y='class', \n",
    "                         color='Booster Version Category',\n",
    "                         title='Correlation between Payload and Success for all Sites')\n",
    "    else:\n",
    "        site_df = filtered_df[filtered_df['Launch Site'] == entered_site]\n",
    "        fig = px.scatter(site_df, \n",
    "                         x='Payload Mass (kg)', \n",
    "                         y='class', \n",
    "                         color='Booster Version Category',\n",
    "                         title=f'Correlation between Payload and Success for site {entered_site}')\n",
    "    return fig\n",
    "\n",
    "\n",
    "# Run the app server (for Jupyter, use run)\n",
    "app.run(debug=True, port=8051)"
   ]
  }
 ],
 "metadata": {
  "kernelspec": {
   "display_name": "RP-Env",
   "language": "python",
   "name": "python3"
  },
  "language_info": {
   "codemirror_mode": {
    "name": "ipython",
    "version": 3
   },
   "file_extension": ".py",
   "mimetype": "text/x-python",
   "name": "python",
   "nbconvert_exporter": "python",
   "pygments_lexer": "ipython3",
   "version": "3.12.9"
  }
 },
 "nbformat": 4,
 "nbformat_minor": 5
}
